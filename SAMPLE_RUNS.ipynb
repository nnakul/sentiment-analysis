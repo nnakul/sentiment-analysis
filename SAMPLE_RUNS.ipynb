{
 "cells": [
  {
   "cell_type": "code",
   "execution_count": 1,
   "metadata": {},
   "outputs": [],
   "source": [
    "import torch\n",
    "import torch.nn as nn\n",
    "import numpy as np\n",
    "import json"
   ]
  },
  {
   "cell_type": "code",
   "execution_count": 2,
   "metadata": {},
   "outputs": [],
   "source": [
    "def LoadData ( ) :\n",
    "    global TRAIN_DATA, TEST_DATA, SEQ_LENGTH, ID_TO_EMOTION, EMOTION_TO_ID\n",
    "    global ID_TO_WORD, WORD_TO_ID, VOCAB\n",
    "\n",
    "    with open('DATA/TRAIN.json', 'r') as file :\n",
    "        TRAIN_DATA = json.load(file)\n",
    "    with open('DATA/TEST.json', 'r') as file :\n",
    "        TEST_DATA = json.load(file)\n",
    "\n",
    "    SEQ_LENGTH = 0\n",
    "    for val in TRAIN_DATA.values() :\n",
    "        for seq in val :\n",
    "            if len(seq) > SEQ_LENGTH :\n",
    "                SEQ_LENGTH = len(seq)\n",
    "    for val in TEST_DATA.values() :\n",
    "        for seq in val :\n",
    "            if len(seq) > SEQ_LENGTH :\n",
    "                SEQ_LENGTH = len(seq)\n",
    "    \n",
    "    ID_TO_EMOTION = dict(enumerate(list(TRAIN_DATA.keys())))\n",
    "    EMOTION_TO_ID = { v : k for k , v in ID_TO_EMOTION.items() }\n",
    "\n",
    "    VOCAB = set()\n",
    "    for sentences in TRAIN_DATA.values() :\n",
    "        for sentence in sentences :\n",
    "            VOCAB.update(sentence)\n",
    "    for sentences in TEST_DATA.values() :\n",
    "        for sentence in sentences :\n",
    "            VOCAB.update(sentence)\n",
    "\n",
    "    ID_TO_WORD = list(VOCAB)\n",
    "    ID_TO_WORD.sort()\n",
    "    ID_TO_WORD.insert(0, '')\n",
    "    WORD_TO_ID = { word : idd for idd, word in enumerate(ID_TO_WORD) }"
   ]
  },
  {
   "cell_type": "code",
   "execution_count": 3,
   "metadata": {},
   "outputs": [],
   "source": [
    "class EmotionClassifier ( nn.Module ) :\n",
    "    def __init__ ( self , input_size, hidden_size, output_size, num_layers ) :\n",
    "        super(EmotionClassifier, self).__init__()\n",
    "        self.hidden_size = hidden_size\n",
    "        self.input_size = input_size\n",
    "        self.output_size = output_size\n",
    "        self.num_layers = num_layers\n",
    "        \n",
    "        self.embed = nn.Embedding(len(VOCAB), input_size)\n",
    "        self.lstm = nn.LSTM(input_size = input_size, hidden_size = hidden_size, \n",
    "                            num_layers = num_layers, dropout = 0.5, batch_first = True)\n",
    "        self.dense = nn.Linear(hidden_size, output_size)\n",
    "    \n",
    "    def forward ( self , inputs ) :\n",
    "        orig_inputs = inputs\n",
    "        inputs = self.embed(inputs)\n",
    "        \n",
    "        h0 = torch.zeros(self.num_layers, inputs.size(0), self.hidden_size)\n",
    "        c0 = torch.zeros(self.num_layers, inputs.size(0), self.hidden_size)\n",
    "        output, _ = self.lstm(inputs, (h0, c0))\n",
    "        \n",
    "        batch_size = inputs.shape[0]\n",
    "        masking_indices = [ np.argmax(orig_inputs[x] == 0) - 1 for x in range(batch_size) ]\n",
    "        output = torch.stack( [ output[idd, k, :] for idd, k in enumerate(masking_indices) ] )\n",
    "        \n",
    "        categs = self.dense(output)\n",
    "        return categs"
   ]
  },
  {
   "cell_type": "code",
   "execution_count": 4,
   "metadata": {},
   "outputs": [],
   "source": [
    "def PredictEmotion ( sentence ) :\n",
    "    sentence = sentence.lower()\n",
    "    permitted_syms = set('abcdefghijklmnopqrstuvwxyz ')\n",
    "    invalid_syms = set(sentence) - permitted_syms\n",
    "    for sym in invalid_syms :\n",
    "        sentence = sentence.replace(sym, ' ')\n",
    "    \n",
    "    words = sentence.split(' ')\n",
    "    words = [ w for w in words if w != '' ]\n",
    "    for word in words :\n",
    "        if not word in ID_TO_WORD :\n",
    "            print('[SENTENCE CONTAINS A WORD <{}> NOT PRESENT IN THE VOCABULARY]'.format(word))\n",
    "            return\n",
    "    \n",
    "    encoded = []\n",
    "    for word in words :\n",
    "        encoded.append(WORD_TO_ID[word])\n",
    "    \n",
    "    label_dists = MODEL(torch.tensor([encoded]).long())\n",
    "    pred = torch.argmax(label_dists, dim = 1).item()\n",
    "    return ID_TO_EMOTION[pred]"
   ]
  },
  {
   "cell_type": "code",
   "execution_count": 5,
   "metadata": {},
   "outputs": [
    {
     "data": {
      "text/plain": [
       "EmotionClassifier(\n",
       "  (embed): Embedding(9918, 128)\n",
       "  (lstm): LSTM(128, 256, num_layers=2, batch_first=True, dropout=0.5)\n",
       "  (dense): Linear(in_features=256, out_features=5, bias=True)\n",
       ")"
      ]
     },
     "execution_count": 5,
     "metadata": {},
     "output_type": "execute_result"
    }
   ],
   "source": [
    "LoadData()\n",
    "MODEL = torch.load('MODELS/sentiment_analyser')\n",
    "MODEL.eval()"
   ]
  },
  {
   "cell_type": "code",
   "execution_count": 6,
   "metadata": {},
   "outputs": [
    {
     "data": {
      "text/plain": [
       "'sad'"
      ]
     },
     "execution_count": 6,
     "metadata": {},
     "output_type": "execute_result"
    }
   ],
   "source": [
    "PredictEmotion(\"Sometimes I feel very lonely.\")"
   ]
  },
  {
   "cell_type": "code",
   "execution_count": 7,
   "metadata": {},
   "outputs": [
    {
     "data": {
      "text/plain": [
       "'anger'"
      ]
     },
     "execution_count": 7,
     "metadata": {},
     "output_type": "execute_result"
    }
   ],
   "source": [
    "PredictEmotion(\"How dare you touch my stuff without asking me!\")"
   ]
  },
  {
   "cell_type": "code",
   "execution_count": 8,
   "metadata": {},
   "outputs": [
    {
     "data": {
      "text/plain": [
       "'joy'"
      ]
     },
     "execution_count": 8,
     "metadata": {},
     "output_type": "execute_result"
    }
   ],
   "source": [
    "PredictEmotion(\"These are those activities that really help my mood.\")"
   ]
  },
  {
   "cell_type": "code",
   "execution_count": 9,
   "metadata": {},
   "outputs": [
    {
     "data": {
      "text/plain": [
       "'neutral'"
      ]
     },
     "execution_count": 9,
     "metadata": {},
     "output_type": "execute_result"
    }
   ],
   "source": [
    "PredictEmotion(\"What is the date today?\")"
   ]
  },
  {
   "cell_type": "code",
   "execution_count": 10,
   "metadata": {},
   "outputs": [
    {
     "data": {
      "text/plain": [
       "'fear'"
      ]
     },
     "execution_count": 10,
     "metadata": {},
     "output_type": "execute_result"
    }
   ],
   "source": [
    "PredictEmotion(\"I do not want to lose my job.\")"
   ]
  },
  {
   "cell_type": "code",
   "execution_count": 11,
   "metadata": {},
   "outputs": [
    {
     "data": {
      "text/plain": [
       "'anger'"
      ]
     },
     "execution_count": 11,
     "metadata": {},
     "output_type": "execute_result"
    }
   ],
   "source": [
    "PredictEmotion(\"I just can't tolerate this student's presence in my class.\")"
   ]
  },
  {
   "cell_type": "code",
   "execution_count": 12,
   "metadata": {},
   "outputs": [
    {
     "data": {
      "text/plain": [
       "'anger'"
      ]
     },
     "execution_count": 12,
     "metadata": {},
     "output_type": "execute_result"
    }
   ],
   "source": [
    "PredictEmotion(\"You can't because we do not have enough money for this trip.\")"
   ]
  },
  {
   "cell_type": "code",
   "execution_count": 13,
   "metadata": {},
   "outputs": [
    {
     "data": {
      "text/plain": [
       "'sad'"
      ]
     },
     "execution_count": 13,
     "metadata": {},
     "output_type": "execute_result"
    }
   ],
   "source": [
    "PredictEmotion(\"I am hardly able to focus on my studies these days.\")"
   ]
  },
  {
   "cell_type": "code",
   "execution_count": 14,
   "metadata": {},
   "outputs": [
    {
     "data": {
      "text/plain": [
       "'joy'"
      ]
     },
     "execution_count": 14,
     "metadata": {},
     "output_type": "execute_result"
    }
   ],
   "source": [
    "PredictEmotion(\"Today I met him after such a long time.\")"
   ]
  },
  {
   "cell_type": "code",
   "execution_count": 15,
   "metadata": {},
   "outputs": [
    {
     "data": {
      "text/plain": [
       "'neutral'"
      ]
     },
     "execution_count": 15,
     "metadata": {},
     "output_type": "execute_result"
    }
   ],
   "source": [
    "PredictEmotion(\"Well, it is not the first time I have won this competition.\")"
   ]
  },
  {
   "cell_type": "code",
   "execution_count": 16,
   "metadata": {},
   "outputs": [
    {
     "data": {
      "text/plain": [
       "'sad'"
      ]
     },
     "execution_count": 16,
     "metadata": {},
     "output_type": "execute_result"
    }
   ],
   "source": [
    "PredictEmotion(\"I worked so hard for the promotion but still did not succeed.\")"
   ]
  },
  {
   "cell_type": "code",
   "execution_count": 17,
   "metadata": {},
   "outputs": [
    {
     "data": {
      "text/plain": [
       "'fear'"
      ]
     },
     "execution_count": 17,
     "metadata": {},
     "output_type": "execute_result"
    }
   ],
   "source": [
    "PredictEmotion(\"I am too scared to go for swimming in that cursed pool.\")"
   ]
  },
  {
   "cell_type": "code",
   "execution_count": 18,
   "metadata": {},
   "outputs": [
    {
     "data": {
      "text/plain": [
       "'neutral'"
      ]
     },
     "execution_count": 18,
     "metadata": {},
     "output_type": "execute_result"
    }
   ],
   "source": [
    "PredictEmotion(\"I would never be able to jump that far.\")"
   ]
  },
  {
   "cell_type": "code",
   "execution_count": 19,
   "metadata": {},
   "outputs": [
    {
     "data": {
      "text/plain": [
       "'fear'"
      ]
     },
     "execution_count": 19,
     "metadata": {},
     "output_type": "execute_result"
    }
   ],
   "source": [
    "PredictEmotion(\"I was standing in the middle of nowhere and then this man started following me.\")"
   ]
  },
  {
   "cell_type": "code",
   "execution_count": 20,
   "metadata": {},
   "outputs": [
    {
     "data": {
      "text/plain": [
       "'neutral'"
      ]
     },
     "execution_count": 20,
     "metadata": {},
     "output_type": "execute_result"
    }
   ],
   "source": [
    "PredictEmotion(\"You did not have the right to say this about me.\")"
   ]
  },
  {
   "cell_type": "code",
   "execution_count": 21,
   "metadata": {},
   "outputs": [
    {
     "data": {
      "text/plain": [
       "'anger'"
      ]
     },
     "execution_count": 21,
     "metadata": {},
     "output_type": "execute_result"
    }
   ],
   "source": [
    "PredictEmotion(\"I just can't stand lazy people.\")"
   ]
  },
  {
   "cell_type": "code",
   "execution_count": 22,
   "metadata": {},
   "outputs": [
    {
     "data": {
      "text/plain": [
       "'sad'"
      ]
     },
     "execution_count": 22,
     "metadata": {},
     "output_type": "execute_result"
    }
   ],
   "source": [
    "PredictEmotion(\"I should not take sweets from strangers.\")"
   ]
  },
  {
   "cell_type": "code",
   "execution_count": 23,
   "metadata": {},
   "outputs": [
    {
     "data": {
      "text/plain": [
       "'anger'"
      ]
     },
     "execution_count": 23,
     "metadata": {},
     "output_type": "execute_result"
    }
   ],
   "source": [
    "PredictEmotion(\"We could not go for the vacation because of this appointment.\")"
   ]
  }
 ],
 "metadata": {
  "kernelspec": {
   "display_name": "Python 3",
   "language": "python",
   "name": "python3"
  },
  "language_info": {
   "codemirror_mode": {
    "name": "ipython",
    "version": 3
   },
   "file_extension": ".py",
   "mimetype": "text/x-python",
   "name": "python",
   "nbconvert_exporter": "python",
   "pygments_lexer": "ipython3",
   "version": "3.8.5"
  }
 },
 "nbformat": 4,
 "nbformat_minor": 4
}
